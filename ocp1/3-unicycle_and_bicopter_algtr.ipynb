{
 "cells": [
  {
   "cell_type": "markdown",
   "metadata": {},
   "source": [
    "# An introduction to optimal control with Aligator"
   ]
  },
  {
   "cell_type": "markdown",
   "metadata": {},
   "source": [
    "## Setup"
   ]
  },
  {
   "cell_type": "code",
   "execution_count": 1,
   "metadata": {},
   "outputs": [
    {
     "name": "stdout",
     "output_type": "stream",
     "text": [
      "NB: as for all the tutorials, a magic command %do_not_load is introduced to hide\n",
      "    the solutions to some questions. Change it for %load if you want to see (and\n",
      "    execute) the solution.\n"
     ]
    }
   ],
   "source": [
    "import gepetuto.magic"
   ]
  },
  {
   "cell_type": "markdown",
   "metadata": {},
   "source": [
    "## Aligator\n",
    "\n",
    "For this version of the tutorial we will be using Aligator, a new numerical OC library developed by LAAS-CNRS and INRIA Paris.\n",
    "\n",
    "For this winter school, we have provided an alpha version of the software, under the provisional ame `proxddp`."
   ]
  },
  {
   "cell_type": "code",
   "execution_count": 2,
   "metadata": {},
   "outputs": [],
   "source": [
    "import proxddp\n",
    "import numpy as np\n",
    "from proxddp import manifolds, dynamics\n",
    "from utils.bicopter import plotBicopterSolution"
   ]
  },
  {
   "attachments": {
    "image.png": {
     "image/png": "[encoded data removed]"
    }
   },
   "cell_type": "markdown",
   "metadata": {
    "jp-MarkdownHeadingCollapsed": true
   },
   "source": [
    "----\n",
    "# Starting example: the unicycle\n",
    "\n",
    "![image.png](attachment:image.png)\n",
    "\n",
    "An unicycle represents a kinematic model of a car where it's only possible to move in two directions, i.e. it drives forward and turns on the spot. Its dynamics has nonholonomic constraints because it cannot move sideways. Remember that nonholonomic constraints are nonintegral and has the form $\\mathbf{f(q,\\dot{q})=0}$.\n",
    "\n",
    "In this example, we define an optimal-control problem for the classical unicycle problem. Our goal is to drive the unicycle towards the origin but at the same time not too fast. For that, the cost function is described as the sum between the distance to the origin and the system speed.\n",
    "\n"
   ]
  },
  {
   "cell_type": "markdown",
   "metadata": {},
   "source": [
    "Basically, our optimal control problem has the following simulation model (ie predicting $x_{next}$ from current state $x$ and control $u$) and cost function:"
   ]
  },
  {
   "cell_type": "code",
   "execution_count": 3,
   "metadata": {},
   "outputs": [],
   "source": [
    "x = np.random.rand(3)\n",
    "u = np.random.rand(2)\n",
    "\n",
    "# Unicycle dynamical model\n",
    "v,w = u\n",
    "c,s = np.cos(x[2]),np.sin(x[2])\n",
    "dt = 1e-2\n",
    "dx = np.array([ v*c, v*s, w ])\n",
    "xnext = x + dx*dt\n",
    "\n",
    "# Cost function: driving to origin (state) and reducing speed (control)\n",
    "stateWeight = 1\n",
    "ctrlWeight = 1\n",
    "costResiduals = np.concatenate([stateWeight*x,ctrlWeight*u])\n",
    "cost = .5* sum(costResiduals**2)"
   ]
  },
  {
   "cell_type": "markdown",
   "metadata": {},
   "source": [
    "## Dynamics model\n"
   ]
  },
  {
   "cell_type": "markdown",
   "metadata": {},
   "source": [
    "For this example, we provide an oven-ready implementation of the Unicycle's discrete dynamics in Python - a C++ model was not implemented yet unlike in Crocoddyl.\n",
    "\n",
    "Don't worry, the second part of this tutorial will let you implement your own (bicopter) dynamics model!"
   ]
  },
  {
   "cell_type": "code",
   "execution_count": 4,
   "metadata": {},
   "outputs": [],
   "source": [
    "# %load tp3/generated/unicycle_algtr_dynamics\n",
    "class UnicycleDynamics(dynamics.ExplicitDynamicsModel):\n",
    "    def __init__(self, timestep):\n",
    "        space = manifolds.R3()\n",
    "        super().__init__(space, 2)\n",
    "        self.dt = timestep\n",
    "\n",
    "    def forward(self, x, u, data: dynamics.ExplicitDynamicsData):\n",
    "        c, s = np.cos(x[2]), np.sin(x[2])\n",
    "        data.xnext[:] = [\n",
    "            x[0] + c * u[0] * self.dt,\n",
    "            x[1] + s * u[0] * self.dt,\n",
    "            x[2] + u[1] * self.dt,\n",
    "        ]\n",
    "\n",
    "    def dForward(self, x, u, data: dynamics.ExplicitDynamicsData):\n",
    "        c, s = np.cos(x[2]), np.sin(x[2])\n",
    "        data.Jx[:] = np.eye(3)\n",
    "        data.Jx[0, 2] = -s * u[0] * self.dt\n",
    "        data.Jx[1, 2] = c * u[0] * self.dt\n",
    "\n",
    "        data.Ju[0, 0] = c * self.dt\n",
    "        data.Ju[1, 0] = s * self.dt\n",
    "        data.Ju[2, 1] = self.dt\n"
   ]
  },
  {
   "cell_type": "markdown",
   "metadata": {},
   "source": [
    "The dynamics model contains the description of the system's discrete dynamics, and implements its derivatives."
   ]
  },
  {
   "cell_type": "markdown",
   "metadata": {},
   "source": [
    "## Defining the shooting problem\n",
    "Now we have the action model, let's define the complete problem.\n",
    "A shooting problem is defined by the initial state from which computing the rollout and a sequence of action models.\n"
   ]
  },
  {
   "cell_type": "code",
   "execution_count": 5,
   "metadata": {},
   "outputs": [],
   "source": [
    "# %load tp3/generated/unicycle_algtr_hyperparams\n",
    "### HYPER PARAMS: horizon and initial state\n",
    "T = 100\n",
    "x0 = np.array([-1, -1, 1])"
   ]
  },
  {
   "cell_type": "code",
   "execution_count": 7,
   "metadata": {},
   "outputs": [],
   "source": [
    "# %load tp3/generated/unicycle_algtr_model\n",
    "cost_weights = np.array([1.0, 1.0])\n",
    "dt = 0.1\n",
    "dyn_model = UnicycleDynamics(dt)\n",
    "rcost = proxddp.QuadraticCost(\n",
    "    w_x=cost_weights[0] * np.eye(3), w_u=cost_weights[1] * np.eye(2)\n",
    ")\n",
    "stage = proxddp.StageModel(rcost, dyn_model)\n"
   ]
  },
  {
   "cell_type": "markdown",
   "metadata": {},
   "source": [
    "Here we define a problem starting from $\\mathbf{x}_0$ with 20 timesteps (of 0.1 sec by default implementation of unicycle). The terminal action model is defined using the running action model."
   ]
  },
  {
   "cell_type": "code",
   "execution_count": 10,
   "metadata": {},
   "outputs": [],
   "source": [
    "# %load tp3/generated/unicycle_algtr_problem\n",
    "term_cost = rcost.copy()\n",
    "# term_cost.w_x[:] = np.eye(3) * 100.0 ** 2\n",
    "# term_cost.w_u[:] = 0.0\n",
    "\n",
    "# Define the optimal control problem.\n",
    "problem = proxddp.TrajOptProblem(x0, [stage] * T, term_cost)\n"
   ]
  },
  {
   "cell_type": "markdown",
   "metadata": {},
   "source": [
    "This defines the model, not any algorithm to solve it. The only computation that the problem can provide is to integrate the system for a given sequence of controls."
   ]
  },
  {
   "cell_type": "code",
   "execution_count": 11,
   "metadata": {},
   "outputs": [],
   "source": [
    "us = [np.array([1., .1]).T for t in range(T)]\n",
    "xs = proxddp.rollout(dyn_model, x0, us)"
   ]
  },
  {
   "cell_type": "markdown",
   "metadata": {},
   "source": [
    "The plotUnicycle function plots the system as two arrows that represent the wheels"
   ]
  },
  {
   "cell_type": "code",
   "execution_count": 12,
   "metadata": {},
   "outputs": [
    {
     "data": {
      "text/plain": [
       "(-3.0, 1.0, -2.0, 2.0)"
      ]
     },
     "execution_count": 12,
     "metadata": {},
     "output_type": "execute_result"
    },
    {
     "data": {
      "image/png": "[encoded data removed]",
      "text/plain": [
       "<Figure size 640x640 with 1 Axes>"
      ]
     },
     "metadata": {},
     "output_type": "display_data"
    }
   ],
   "source": [
    "%matplotlib inline\n",
    "import matplotlib.pylab as plt\n",
    "from utils.unicycle import plotUnicycleSolution\n",
    "\n",
    "plotUnicycleSolution(xs)\n",
    "plt.axis([-3,1.,-2.,2.])"
   ]
  },
  {
   "cell_type": "markdown",
   "metadata": {},
   "source": [
    "## Solve the OCP\n",
    "The main solver is named SolverDDP. Other solvers exist, and you can also add other solvers (taken off the shelf, reimplemented from the literature and invented by yourselves). More on this in the second exercise. \n",
    "\n",
    "The DDP solver is initialized with the problem object and mostly contains the ddp.solve method. "
   ]
  },
  {
   "cell_type": "code",
   "execution_count": 16,
   "metadata": {},
   "outputs": [],
   "source": [
    "# %load tp3/generated/unicycle_algtr_ddp\n",
    "# Select the solver for this problem\n",
    "TOL = 1e-5\n",
    "ddp = proxddp.SolverProxDDP(TOL, verbose=proxddp.VERBOSE)\n",
    "ddp.setup(problem)\n"
   ]
  },
  {
   "cell_type": "markdown",
   "metadata": {},
   "source": [
    "We can warm start it and tune the parameters, but for the simple unicycle, let's just solve it:"
   ]
  },
  {
   "cell_type": "code",
   "execution_count": 17,
   "metadata": {},
   "outputs": [
    {
     "name": "stdout",
     "output_type": "stream",
     "text": [
      "\u001b[1miter｜  alpha   ｜inner_crit｜ prim_err ｜ dual_err ｜   xreg   ｜  dphi0   ｜  merit   ｜ delta_M  ｜aliter｜   mu   \u001b[0m\n",
      "   1｜ 1.000e+00｜ 0.000e+00｜ 1.000e+00｜ 0.000e+00｜ 1.000e-09｜-5.999e+05｜ 2.555e+01｜    -3e+05｜     1｜ 1.00e-02\n",
      "   2｜ 1.000e+00｜ 4.050e+00｜ 5.543e-04｜ 4.050e+00｜ 3.333e-10｜-3.168e+01｜ 1.729e+01｜     -8.25｜     1｜ 1.00e-02\n",
      "   3｜ 1.000e+00｜ 1.415e-01｜ 1.692e-04｜ 1.415e-01｜ 1.111e-10｜-2.803e-01｜ 1.722e+01｜    -0.075｜     1｜ 1.00e-02\n",
      "   4｜ 1.000e+00｜ 1.446e-02｜ 1.482e-04｜ 1.446e-02｜ 1.000e-10｜-1.110e-02｜ 1.722e+01｜  -0.00319｜     1｜ 1.00e-02\n",
      "   5｜ 1.000e+00｜ 8.627e-03｜ 1.460e-04｜ 8.627e-03｜ 1.000e-10｜-4.571e-02｜ 1.726e+01｜   -0.0445｜     2｜ 1.00e-02\n",
      "   6｜ 1.000e+00｜ 2.137e-03｜ 7.168e-07｜ 2.137e-03｜ 1.000e-10｜-3.270e-05｜ 1.726e+01｜ -3.02e-05｜     2｜ 1.00e-02\n",
      "   7｜ 1.000e+00｜ 7.413e-04｜ 6.717e-07｜ 7.413e-04｜ 1.000e-10｜ 3.878e-06｜ 1.726e+01｜ -2.42e-06｜     2｜ 1.00e-02\n",
      "   8｜ 1.000e+00｜ 1.016e-04｜ 6.919e-07｜ 1.016e-04｜ 1.000e-10｜ 3.249e-06｜ 1.726e+01｜ -2.13e-07｜     2｜ 1.00e-02\n",
      "   9｜ 1.000e+00｜ 7.022e-05｜ 6.920e-07｜ 7.022e-05｜ 1.000e-10｜ 1.950e-04｜ 1.726e+01｜ -2.92e-06｜     3｜ 1.00e-02\n",
      "  10｜ 1.000e+00｜ 1.845e-05｜ 6.582e-09｜ 1.845e-05｜ 1.000e-10｜ 3.385e-07｜ 1.726e+01｜ -2.27e-09｜     3｜ 1.00e-02\n",
      "\u001b[38;2;030;144;255mSuccessfully converged.\u001b[0m\n"
     ]
    }
   ],
   "source": [
    "# %load tp3/generated/unicycle_algtr_solve\n",
    "done = ddp.run(problem, [], [])\n",
    "assert done\n"
   ]
  },
  {
   "cell_type": "markdown",
   "metadata": {},
   "source": [
    "Let's plot the result"
   ]
  },
  {
   "cell_type": "code",
   "execution_count": 18,
   "metadata": {},
   "outputs": [
    {
     "data": {
      "image/png": "[encoded data removed]",
      "text/plain": [
       "<Figure size 640x640 with 1 Axes>"
      ]
     },
     "metadata": {},
     "output_type": "display_data"
    }
   ],
   "source": [
    "# %load tp3/generated/unicycle_algtr_plot_sol\n",
    "xs_opt = ddp.results.xs.tolist()\n",
    "plotUnicycleSolution(xs_opt)\n"
   ]
  },
  {
   "cell_type": "markdown",
   "metadata": {},
   "source": [
    "The solver journey is typically plotted like this."
   ]
  },
  {
   "cell_type": "code",
   "execution_count": 20,
   "metadata": {},
   "outputs": [],
   "source": [
    "# TODO add plot"
   ]
  },
  {
   "cell_type": "markdown",
   "metadata": {},
   "source": [
    "The terminal state chosen by the solver is:"
   ]
  },
  {
   "cell_type": "code",
   "execution_count": 19,
   "metadata": {},
   "outputs": [
    {
     "name": "stdout",
     "output_type": "stream",
     "text": [
      "[ 2.29149236e-04 -1.01830194e-01  2.06170529e-05]\n"
     ]
    }
   ],
   "source": [
    "print(ddp.results.xs[-1])"
   ]
  },
  {
   "cell_type": "markdown",
   "metadata": {},
   "source": [
    "## Well, the terminal state is not so nicely in the origin.\n",
    "\n",
    "Question 1: why?\n",
    "\n",
    "Question 2: How can you change this?\n",
    "\n",
    "Question 3: by changing the cost parameters, the time horizon and the initial position, can you trigger a maneuver?"
   ]
  },
  {
   "cell_type": "code",
   "execution_count": 142,
   "metadata": {},
   "outputs": [],
   "source": [
    "%do_not_load_snippet tp1/generated/unicycle_toward_origin_termmodel"
   ]
  },
  {
   "cell_type": "markdown",
   "metadata": {
    "jp-MarkdownHeadingCollapsed": true
   },
   "source": [
    "----\n",
    "# Defining your own (bicopter) model\n",
    "\n",
    "Unicycle is a very basic example. Most interesting problems in robotics are written at the acceleration level to easily convey forces and action-reaction phenomena. We will now consider a bicopter model (i.e. a UAV evolving in a vertical plane). It is composed of two rotors producing pure orthogonal forces, hence leading to linear and angular accelerations resulting from the thrust and gravity effects. \n",
    "\n",
    "## Bicopter equations of motion\n",
    "The bicopter is defined by its mass $m$, wingspan $l$ (distance from the copter center to each propeller), inertia $i=l^2m$ and gravity $g$. The state $x=(q,v)$ is the concatenation of position and velocity of the copter, with $q=(x_1,x_2,\\theta)$, $x_1$ the horizontal position, $x_2$ the vertical position and $\\theta$ the angle) and  $v=(v_1,v_2,\\omega)$ the horizontal, vertical and angle velocities.\n",
    "The control is the thrust (vertical forces) of right then leg propellers $(u=(f_r, f_l)$).\n",
    "\n",
    "The linear and angular forces due to the propellers are easy to express in the local frame:\n",
    "$$f = \\left(0, f_r+f_l, (f_l-f_r) l \\right)$$\n",
    "The acceleration in world frame is then obtained by rotating the linear forces, dividing by mass and inertia and adding the gravity:\n",
    "$$a = \\left(\\frac{f[1] \\sin(\\theta)}{m}, \\frac{f[1] \\cos(\\theta)}{m}-g, \\frac{f[2]}{i} \\right)$$\n",
    "\n"
   ]
  },
  {
   "cell_type": "markdown",
   "metadata": {},
   "source": [
    "## Equations of motion\n",
    "\n",
    "As for the unicyle model, we need to integrate this quantity to get the next state $x_\\text{next}$ from the current state $x$ and control $u$. Now, the bicopter is in acceleration, so the integration should be repeated twice (from acceleration to position). We could do that directly in the action model.\n",
    "\n",
    "In Aligator, we model explicit, continuous-time ODE dynamics with the class `proxddp.dynamics.ODEAbstract`. Unlike Crocoddyl, we make *no assumption that these are second-order dynamics*.\n",
    "This means the end-user has complete freedom to implement whatever first-order state dynamics they desire.\n",
    "\n",
    "This also means an implementation of `ODEAbstract` should implement the\n",
    "$$\n",
    "  \\dot{x} = \\begin{bmatrix} \\dot{q} \\\\ \\dot{v} \\end{bmatrix} =\n",
    "  \\begin{bmatrix} v \\\\ a(q,v,u)\\end{bmatrix}\n",
    "$$\n",
    "where $x = (q,v)$."
   ]
  },
  {
   "cell_type": "markdown",
   "metadata": {},
   "source": [
    "In discrete-time, the user can call upon one of the `proxddp.dynamics.IntegratorBase` classes, such as `proxddp.dynamics.IntegratorSemiImplicitEuler` (which is the counterpart of `crocoddyl.IntegratorActionModelEuler`). The discrete dynamics of the latter are given by:\n",
    "$$v_+ = v + a \\Delta t$$\n",
    "$$q_+ = q + v_+ \\Delta t$$\n",
    "with $\\Delta t$ the integration step, defined as a hyperparameter (tune it with the trade-off between numerical accuracy - small $\\Delta t$ - and computational efficiency - large $\\Delta t$). Note the $v_+$ in the second row: we call that *implicit* Euler integration, which makes it more stable than using $q + v\\Delta t$."
   ]
  },
  {
   "cell_type": "markdown",
   "metadata": {},
   "source": [
    "In numerical optimal control, a convenient class of cost functions is nonlinear sum of squares.\n",
    "The cost $\\ell(x,u)$ is typically defined as:\n",
    "$$\n",
    "\\ell(x,u) = \\frac{1}{2} \\| r(x,u) \\|_2^2\n",
    "$$\n",
    "where $r(x,u)$ is the residual.\n",
    "This has the practical consequence that we can approximate the Hessian of the cost $H = \\nabla^2\\ell$ as\n",
    "$$\n",
    "  \\frac{\\partial^2 \\ell}{\\partial x^2} \\approx \\frac{\\partial r}{\\partial x}^T \\frac{\\partial r}{\\partial x}\n",
    "$$"
   ]
  },
  {
   "cell_type": "markdown",
   "metadata": {},
   "source": [
    "For the copter, we propose to put quite a lot of terms in $r$ so that you can *play* with many hyperparameters to tune:\n",
    "$$r=(x_1,x_2,\\sin(\\theta),1-\\cos(\\theta),v,u,a) \\in \\mathbb{R}^{12}$$"
   ]
  },
  {
   "cell_type": "markdown",
   "metadata": {},
   "source": [
    "## Hyperparameters\n",
    "The optimal control problem depends on the following parameters."
   ]
  },
  {
   "cell_type": "code",
   "execution_count": 143,
   "metadata": {},
   "outputs": [],
   "source": [
    "# %load tp3/generated/bicopter_algtr_hyperparams\n",
    "### Horizon and initial state\n",
    "timeStep = 0.01\n",
    "x0 = np.array([1.0, 0.0, 0.0, 0.0, 0.0, 0.0])\n",
    "T = 50\n",
    "mass = 1.0\n",
    "span = 0.2\n",
    "grav = 10.0\n",
    "costWeights = np.array([\n",
    "    0.1, # x\n",
    "    0.1, # z\n",
    "    .10, # s\n",
    "    .10, # c\n",
    "    0.001, # vx\n",
    "    0.001, # vz\n",
    "    0.001, # w\n",
    "    0.0, # fr\n",
    "    0.0, # fl\n",
    "    0.001,0.001,0.001, # a\n",
    "])  # sin, 1-cos, x, xdot, thdot, f\n",
    "nu = 2\n",
    "space = manifolds.VectorSpace(6)  # state space\n"
   ]
  },
  {
   "cell_type": "markdown",
   "metadata": {},
   "source": [
    "## Defining the residual and dynamics"
   ]
  },
  {
   "cell_type": "code",
   "execution_count": 144,
   "metadata": {},
   "outputs": [],
   "source": [
    "# %load tp3/generated/bicopter_algtr_state_error\n",
    "class BicopterStateError(proxddp.StageFunction):\n",
    "    def __init__(self):\n",
    "        super().__init__(6, nu, nr=12)\n",
    "\n",
    "    def evaluate(self, x, u, y, data: proxddp.StageFunctionData):\n",
    "        x1, x2, th, v1, v2, w = x\n",
    "        fr, fl = u\n",
    "        s, c = np.sin(th), np.cos(th)\n",
    "        # finish implementation here\n"
   ]
  },
  {
   "cell_type": "code",
   "execution_count": 145,
   "metadata": {},
   "outputs": [],
   "source": [
    "# %load tp3/generated/bicopter_algtr_ode\n",
    "class BicopterODE(dynamics.ODEAbstract):\n",
    "    def __init__(self):\n",
    "        super().__init__(space, nu)\n",
    "        self.unone = np.zeros(nu)\n",
    "        self.inertia = mass * span**2\n",
    "\n",
    "    def forward(self, x, u, data: dynamics.ODEData):\n",
    "        # data.xdot must contain the first-order time derivative\n",
    "        # of the state variable x\n",
    "        x1, x2, th, v1, v2, w = x\n",
    "        fr, fl = u\n",
    "        # finish implementation here\n"
   ]
  },
  {
   "cell_type": "markdown",
   "metadata": {},
   "source": [
    "Fill this template by adding your own code. Then create a model object."
   ]
  },
  {
   "cell_type": "code",
   "execution_count": 146,
   "metadata": {},
   "outputs": [],
   "source": [
    "# %load tp3/generated/bicopter_algtr_dynamics_and_residual\n",
    "ode = BicopterODE()\n",
    "state_err_ = BicopterStateError()\n"
   ]
  },
  {
   "cell_type": "markdown",
   "metadata": {},
   "source": [
    "----\n",
    "\n",
    "### Solution\n",
    "\n",
    "The following snippet contains the code for the bicopter's acceleration:"
   ]
  },
  {
   "cell_type": "code",
   "execution_count": 147,
   "metadata": {},
   "outputs": [],
   "source": [
    "%do_not_load_snippet tp3/generated/bicopter_algtr_acc"
   ]
  },
  {
   "cell_type": "markdown",
   "metadata": {},
   "source": [
    "## Creating the integrator\n",
    "\n",
    "We feed the ODE into the corresponding numerical integration class."
   ]
  },
  {
   "cell_type": "code",
   "execution_count": 148,
   "metadata": {},
   "outputs": [],
   "source": [
    "# %load tp3/generated/bicopter_algtr_integrator\n",
    "dyn_model_ = dynamics.IntegratorSemiImplEuler(ode, timeStep)  # has no derivatives\n"
   ]
  },
  {
   "cell_type": "markdown",
   "metadata": {},
   "source": [
    "## Finite differences\n",
    "\n",
    "At this point, neither the state error function (which will be used in the cost), nor the discrete dynamics have their derivatives.\n",
    "\n",
    "We will use "
   ]
  },
  {
   "cell_type": "code",
   "execution_count": 149,
   "metadata": {},
   "outputs": [],
   "source": [
    "# %load tp3/generated/bicopter_algtr_finite_difference\n",
    "# Use the finite-difference helpers from proxddp\n",
    "# DynamicsFiniteDifferenceHelper, FiniteDifferenceHelper \n",
    "fd_eps = 1e-4\n",
    "dyn_model_nd = proxddp.DynamicsFiniteDifferenceHelper(space, dyn_model_, fd_eps)\n",
    "state_err_nd = proxddp.FiniteDifferenceHelper(space, state_err_, fd_eps)\n",
    "# define a quadratic cost from the bicopter state error\n",
    "rcost = proxddp.QuadraticResidualCost(space, state_err_nd, np.diag(costWeights ** 2 * timeStep))\n"
   ]
  },
  {
   "cell_type": "markdown",
   "metadata": {},
   "source": [
    "## Terminal cost model\n",
    "\n",
    "We suggest you use different weights for the terminal cost"
   ]
  },
  {
   "cell_type": "code",
   "execution_count": 150,
   "metadata": {},
   "outputs": [],
   "source": [
    "# %load tp3/generated/bicopter_algtr_termmodel\n",
    "# Terminal cost: same as the runningcost, but we increase the cost weights\n",
    "# in the library, they're a square matrix you can access through `cost.weights`\n",
    "term_cost = proxddp.QuadraticResidualCost(space, state_err_nd, np.diag(costWeights ** 2))\n",
    "_w = np.diagonal(term_cost.weights)\n",
    "_w.setflags(write=True)\n",
    "_w[:] = 1e4\n"
   ]
  },
  {
   "cell_type": "markdown",
   "metadata": {},
   "source": [
    "## Definition of the optimal control problem\n",
    "Now, you classically do:"
   ]
  },
  {
   "cell_type": "code",
   "execution_count": 151,
   "metadata": {},
   "outputs": [],
   "source": [
    "# %load tp3/generated/bicopter_algtr_ocp\n",
    "stage = proxddp.StageModel(rcost, dyn_model_nd)\n",
    "problem = proxddp.TrajOptProblem(x0, [stage] * T, term_cost)\n",
    "\n",
    "TOL = 1e-5\n",
    "verbosity = proxddp.VERBOSE\n",
    "solver = proxddp.SolverProxDDP(TOL, max_iters=300, verbose=verbosity)\n",
    "solver.setup(problem)  # allocate data for this problem\n",
    "ok = solver.run(problem, [], [])\n",
    "\n",
    "rs: proxddp.Results = solver.results\n",
    "print(rs)\n",
    "xs_opt = rs.xs.tolist()\n"
   ]
  },
  {
   "cell_type": "markdown",
   "metadata": {},
   "source": [
    "## Visualize the solution\n",
    "Plot ..."
   ]
  },
  {
   "cell_type": "code",
   "execution_count": 152,
   "metadata": {},
   "outputs": [],
   "source": [
    "# %load tp3/generated/bicopter_algtr_plot\n",
    "plotBicopterSolution(xs_opt)\n",
    "\n",
    "print('Type plt.show() to display the result.')\n"
   ]
  },
  {
   "cell_type": "markdown",
   "metadata": {},
   "source": [
    "If you want, you can see the movement in a 3D visualization. "
   ]
  },
  {
   "cell_type": "code",
   "execution_count": 153,
   "metadata": {},
   "outputs": [],
   "source": [
    "# %load tp3/generated/bicopter_algtr_viz\n",
    "viz = ViewerBicopter()\n",
    "viz.displayTrajectory(xs_opt, timeStep)\n"
   ]
  },
  {
   "cell_type": "markdown",
   "metadata": {},
   "source": [
    "----\n",
    "# Conclusion\n",
    "Like the unicycle, you can similarly play with the copter, changing the initial conditions or the weights, which should trigger different maneuvers or even strange behaviors. Remember this is a local optimization solver, which you better warm start with a sound behavior when trying to achieve something fancy.\n",
    "\n"
   ]
  }
 ],
 "metadata": {
  "kernelspec": {
   "display_name": "Python 3 (ipykernel)",
   "language": "python",
   "name": "python3"
  },
  "language_info": {
   "codemirror_mode": {
    "name": "ipython",
    "version": 3
   },
   "file_extension": ".py",
   "mimetype": "text/x-python",
   "name": "python",
   "nbconvert_exporter": "python",
   "pygments_lexer": "ipython3",
   "version": "3.11.6"
  }
 },
 "nbformat": 4,
 "nbformat_minor": 4
}
